{
 "cells": [
  {
   "cell_type": "markdown",
   "metadata": {},
   "source": [
    "## Cross validation example: k-nn graph\n",
    "#### Input files: gene expression matrix $X = UDV^T$; scaled spatial coordinates \n",
    "#### Output file: lower dimensional left and right singular vectors $U$ and $V$\n",
    "\n",
    "This note is modified from https://github.com/kelseyj3411/SpLSI"
   ]
  },
  {
   "cell_type": "code",
   "execution_count": 1,
   "metadata": {
    "scrolled": true
   },
   "outputs": [],
   "source": [
    "import sys\n",
    "import os\n",
    "import numpy as np\n",
    "from numpy.linalg import norm, svd, solve, qr\n",
    "import pandas as pd\n",
    "import matplotlib.pyplot as plt\n",
    "import seaborn as sns\n",
    "from sklearn.cluster import KMeans\n",
    "from sklearn.metrics.pairwise import rbf_kernel\n",
    "import networkx as nx\n",
    "\n",
    "import scipy\n",
    "from scipy.sparse import csr_matrix\n",
    "from scipy.optimize import linear_sum_assignment\n",
    "\n",
    "import cvxpy as cp\n",
    "from cvxpy import Variable\n",
    "from cvxpy.problems.objective import Minimize\n",
    "from cvxpy.problems.problem import Problem\n",
    "\n",
    "from sklearn.preprocessing import StandardScaler\n",
    "\n",
    "import pycvxcluster.pycvxcluster\n",
    "\n",
    "from SpLSI import generate_topic_model as gen_model\n",
    "from SpLSI.utils import *\n",
    "from SpLSI.spatialSVD import *\n",
    "from SpLSI import splsi\n",
    "\n",
    "\n",
    "import time"
   ]
  },
  {
   "cell_type": "markdown",
   "metadata": {},
   "source": [
    "#### Load gene expression/locality csv files"
   ]
  },
  {
   "cell_type": "code",
   "execution_count": 2,
   "metadata": {},
   "outputs": [],
   "source": [
    "expr_data_df =   pd.read_csv('expr_data.csv')\n",
    "expr_locs_df = pd.read_csv('expr_locs.csv')\n",
    "\n",
    "expr_data_df = expr_data_df.iloc[:,1:]\n",
    "expr_locs_df = expr_locs_df.iloc[:,1:]\n",
    "\n",
    "expr_data = np.asarray(expr_data_df) ### 3000 genes x 3592 cell locations\n",
    "expr_locs = np.asarray(expr_locs_df) ### 3592 cell locations x 2 coords"
   ]
  },
  {
   "cell_type": "code",
   "execution_count": 3,
   "metadata": {},
   "outputs": [],
   "source": [
    "expr_locs_df = expr_locs_df.rename(columns = {'x_coord':'x', 'y_coord':'y'})  ### Formatting in order to use functions from SpLSI"
   ]
  },
  {
   "cell_type": "markdown",
   "metadata": {},
   "source": [
    "##### Check the alignment of cell locations"
   ]
  },
  {
   "cell_type": "code",
   "execution_count": 5,
   "metadata": {},
   "outputs": [
    {
     "data": {
      "text/plain": [
       "<matplotlib.collections.PathCollection at 0x27c3ff08e90>"
      ]
     },
     "execution_count": 5,
     "metadata": {},
     "output_type": "execute_result"
    },
    {
     "data": {
      "image/png": "[encoded data removed]",
      "text/plain": [
       "<Figure size 640x480 with 1 Axes>"
      ]
     },
     "metadata": {},
     "output_type": "display_data"
    }
   ],
   "source": [
    "plt.scatter(expr_locs[:,0], expr_locs[:, 1], s = 1)"
   ]
  },
  {
   "cell_type": "code",
   "execution_count": 4,
   "metadata": {},
   "outputs": [],
   "source": [
    "n = 3592 # number of locations\n",
    "p = 3000 # number of genes\n",
    "K = 5 # target lower dimension\n",
    "m = 6 # number of neighbors to be considered for weights"
   ]
  },
  {
   "cell_type": "markdown",
   "metadata": {},
   "source": [
    "##### inverse of kernel bandwidth, taken from preprocessing"
   ]
  },
  {
   "cell_type": "code",
   "execution_count": 1,
   "metadata": {},
   "outputs": [],
   "source": [
    "phi = 1/0.0384389841263021"
   ]
  },
  {
   "cell_type": "code",
   "execution_count": 7,
   "metadata": {},
   "outputs": [],
   "source": [
    "weights = gen_model.generate_weights(expr_locs_df, K, m, phi) ### graph information encoded by the weights"
   ]
  },
  {
   "cell_type": "markdown",
   "metadata": {},
   "source": [
    "##### Cross validation"
   ]
  },
  {
   "cell_type": "code",
   "execution_count": 21,
   "metadata": {},
   "outputs": [],
   "source": [
    "spl_2 = splsi.SpLSI(lamb_start = 15,\n",
    "              step_size = 2.5,\n",
    "              grid_len = 5,\n",
    "              step= \"two-step\", eps = 0.01)\n",
    "\n"
   ]
  },
  {
   "cell_type": "code",
   "execution_count": 22,
   "metadata": {
    "scrolled": true
   },
   "outputs": [
    {
     "name": "stdout",
     "output_type": "stream",
     "text": [
      "Error is 4.5759418447589225e-12\n",
      "SpatialSVD ran for 1 steps for lambda = 1e-06 and fold 0.\n",
      "Error is 7.398296227816502\n",
      "Error is 0.7621060112228376\n",
      "Error is 0.4232669361802214\n",
      "Error is 0.22946045853583655\n",
      "Error is 0.16077830323252656\n",
      "Error is 0.14278536597659783\n",
      "Error is 0.13264305089647313\n",
      "Error is 0.11558897827709307\n",
      "Error is 0.08680957808317426\n",
      "Error is 0.05247854709323258\n",
      "Error is 0.025568357174646165\n",
      "Error is 0.010949717934827054\n",
      "Error is 0.004578488615448474\n",
      "SpatialSVD ran for 13 steps for lambda = 15.0 and fold 0.\n",
      "Error is 8.112683656949608\n",
      "Error is 0.533781843355867\n",
      "Error is 0.37374236770975244\n",
      "Error is 0.23350115662810783\n",
      "Error is 0.14277385212768534\n",
      "Error is 0.10753488748944472\n",
      "Error is 0.0761008693958547\n",
      "Error is 0.03882048227107606\n",
      "Error is 0.015249612576181192\n",
      "Error is 0.005344183849195433\n",
      "SpatialSVD ran for 10 steps for lambda = 17.5 and fold 0.\n",
      "Error is 8.463415164147838\n",
      "Error is 0.3983713950837807\n",
      "Error is 0.2020225319224296\n",
      "Error is 0.06794876326067655\n",
      "Error is 0.0005800102584843459\n",
      "SpatialSVD ran for 5 steps for lambda = 20.0 and fold 0.\n",
      "Error is 7.920050994275364\n",
      "Error is 3.96199996582204\n",
      "Error is 2.0430030106121424\n",
      "Error is 2.8936798188791695\n",
      "Error is 2.8915611865419213\n",
      "Error is 1.9353435134004706\n",
      "Error is 1.8104517611083277\n",
      "Error is 1.6850431354821147\n",
      "Error is 1.9866672113420327\n",
      "Error is 1.736307282967706\n",
      "Error is 1.8893985208416093\n",
      "Error is 3.5486079742955337\n",
      "Error is 3.975509615087415\n",
      "Error is 2.626723699695195\n",
      "Error is 2.594433767727089\n",
      "Error is 2.0028432047589146\n",
      "Error is 2.127356664104868\n",
      "Error is 2.2213582202792796\n",
      "Error is 1.7598935375187834\n",
      "Error is 1.7569410044355478\n",
      "Error is 1.968509160719546\n",
      "Error is 3.9744296954364082\n",
      "Error is 3.8522192055592197\n",
      "Error is 3.1337746586082567\n",
      "Error is 1.8277374644046491\n",
      "Error is 2.1302578911051904\n",
      "Error is 2.777694775064988\n",
      "Error is 1.6817147891578443\n",
      "Error is 1.736967568945119\n",
      "Error is 1.989528460716857\n",
      "Error is 1.99400679726867\n",
      "Error is 2.567013212649226\n",
      "Error is 3.1577947714761514\n",
      "Error is 1.8770300103219084\n",
      "Error is 2.6478515762048715\n",
      "Error is 2.0002895278441413\n",
      "Error is 1.9499353691910175\n",
      "Error is 1.8952565684725158\n",
      "Error is 3.9000271205564063\n",
      "Error is 3.7131972589512663\n",
      "Error is 1.7700741533771305\n",
      "Error is 2.000400342246788\n",
      "Error is 1.8587573604777627\n",
      "Error is 1.0972683414479858\n",
      "Error is 2.1878867105995186\n",
      "Error is 2.0298930769440786\n",
      "Error is 1.7035498067601718\n",
      "Error is 1.8298793252566\n",
      "Error is 1.9919248606369522\n",
      "Error is 2.381758132513866\n",
      "Error is 2.355037397875843\n",
      "Error is 1.9603135165651437\n",
      "Error is 2.1640000268757733\n",
      "Error is 1.8640761895816955\n",
      "Error is 1.1239001312744124\n",
      "Error is 2.7361043972057044\n",
      "Error is 3.017186298002018\n",
      "Error is 3.967042379860977\n",
      "Error is 3.9840906940279743\n",
      "Error is 1.9949148621953219\n",
      "Error is 1.6547065801117058\n",
      "Error is 1.6522527618516152\n",
      "Error is 2.0618915499975574\n",
      "Error is 2.51206370473971\n",
      "Error is 2.3848586246167334\n",
      "Error is 1.8848087257259838\n",
      "Error is 2.6716388463571596\n",
      "Error is 3.654534437131478\n",
      "Error is 1.9269923994639053\n",
      "Error is 1.864492463802859\n",
      "Error is 1.985415155248585\n",
      "Error is 2.3714512080928074\n",
      "Error is 2.465633127956291\n",
      "Error is 1.834799422954295\n",
      "Error is 1.9894084510864336\n",
      "Error is 1.919805343068389\n",
      "Error is 1.9741481337700182\n",
      "Error is 1.3209671633531923\n",
      "Error is 3.6201631221012875\n",
      "Error is 2.646929057797117\n",
      "Error is 3.639273522482118\n",
      "Error is 3.9513142897743143\n",
      "Error is 2.9817648733205333\n",
      "Error is 2.033889724577827\n",
      "Error is 1.938513162354204\n",
      "Error is 3.1395189424337198\n",
      "Error is 2.750342242748783\n",
      "Error is 3.197840629312346\n",
      "Error is 1.4712341833663234\n",
      "Error is 2.507015236478572\n",
      "Error is 2.37438463005788\n",
      "Error is 3.3623420631126297\n",
      "Error is 1.7072650313874274\n",
      "Error is 1.9904876856997196\n",
      "Error is 1.722063802075743\n",
      "Error is 1.8067620037182397\n",
      "Error is 3.493536598131503\n",
      "Error is 3.3634783145891642\n",
      "Error is 2.46308265809484\n",
      "Error is 3.426573211156414\n",
      "Error is 2.2094993317771774\n",
      "Error is 1.9457124633765943\n",
      "Error is 1.9973890346006864\n",
      "Error is 1.9615361825660544\n",
      "Error is 3.980627203588662\n",
      "Error is 2.9274834857709657\n",
      "Error is 1.9785665017257947\n",
      "Error is 1.7704153067692394\n",
      "Error is 2.0130782039152115\n",
      "Error is 1.5956199128500343\n",
      "Error is 3.5598891551942495\n",
      "Error is 2.7055813562395956\n",
      "Error is 2.3065657120789744\n",
      "Error is 2.7453196214875666\n",
      "Error is 2.9523809897885456\n",
      "Error is 1.901741281717827\n",
      "Error is 1.997624292148484\n",
      "Error is 1.9997571930392302\n",
      "Error is 1.9805508306275565\n",
      "Error is 1.9242703430730486\n",
      "Error is 1.9919405788528786\n",
      "Error is 1.2787827653531532\n",
      "Error is 3.8289637612402974\n",
      "Error is 3.6327640705849205\n",
      "Error is 1.9864913819671088\n",
      "Error is 1.9866568276255667\n",
      "Error is 2.0657419031706254\n",
      "Error is 1.679774009445784\n",
      "Error is 1.90595342185071\n",
      "Error is 3.961057690294697\n",
      "Error is 2.617959255864782\n",
      "Error is 3.708180135322721\n",
      "Error is 2.0345968698912413\n",
      "Error is 2.547286390048405\n"
     ]
    },
    {
     "ename": "KeyboardInterrupt",
     "evalue": "",
     "output_type": "error",
     "traceback": [
      "\u001b[1;31m---------------------------------------------------------------------------\u001b[0m",
      "\u001b[1;31mKeyboardInterrupt\u001b[0m                         Traceback (most recent call last)",
      "Cell \u001b[1;32mIn[22], line 4\u001b[0m\n\u001b[0;32m      1\u001b[0m \u001b[38;5;66;03m##### I used n = 3639 instead of 3673 (correct) by mistake, but the resulting ARIs are the same (check for bugs)\u001b[39;00m\n\u001b[0;32m      3\u001b[0m start \u001b[38;5;241m=\u001b[39m time\u001b[38;5;241m.\u001b[39mtime()\n\u001b[1;32m----> 4\u001b[0m \u001b[43mspl_2\u001b[49m\u001b[38;5;241;43m.\u001b[39;49m\u001b[43mfit\u001b[49m\u001b[43m(\u001b[49m\u001b[43mexpr_data\u001b[49m\u001b[43m,\u001b[49m\u001b[43m \u001b[49m\u001b[43mK\u001b[49m\u001b[43m,\u001b[49m\u001b[43m \u001b[49m\u001b[43mexpr_locs_df\u001b[49m\u001b[43m,\u001b[49m\u001b[43m \u001b[49m\u001b[43mweights\u001b[49m\u001b[43m)\u001b[49m\n\u001b[0;32m      5\u001b[0m end \u001b[38;5;241m=\u001b[39m time\u001b[38;5;241m.\u001b[39mtime()\n\u001b[0;32m      6\u001b[0m \u001b[38;5;28mprint\u001b[39m(end \u001b[38;5;241m-\u001b[39m start)\n",
      "File \u001b[1;32m~\\Desktop\\sample11\\CV for sample11\\SpLSI\\splsi.py:63\u001b[0m, in \u001b[0;36mSpLSI.fit\u001b[1;34m(self, D, K, df, weights)\u001b[0m\n\u001b[0;32m     58\u001b[0m     \u001b[38;5;28mself\u001b[39m\u001b[38;5;241m.\u001b[39mU, _, _ \u001b[38;5;241m=\u001b[39m trunc_svd(D\u001b[38;5;241m.\u001b[39mT, K)\n\u001b[0;32m     59\u001b[0m     \u001b[38;5;66;03m#print(\"Running vanilla SVD...\")\u001b[39;00m\n\u001b[0;32m     60\u001b[0m \n\u001b[0;32m     61\u001b[0m \u001b[38;5;28;01melse\u001b[39;00m:\n\u001b[0;32m     62\u001b[0m     \u001b[38;5;66;03m#print(\"Running spatial SVD...\")\u001b[39;00m\n\u001b[1;32m---> 63\u001b[0m     \u001b[38;5;28mself\u001b[39m\u001b[38;5;241m.\u001b[39mU, \u001b[38;5;28mself\u001b[39m\u001b[38;5;241m.\u001b[39mL, \u001b[38;5;28mself\u001b[39m\u001b[38;5;241m.\u001b[39mlambd, \u001b[38;5;28mself\u001b[39m\u001b[38;5;241m.\u001b[39mlambd_errs \u001b[38;5;241m=\u001b[39m \u001b[43mspatialSVD\u001b[49m\u001b[43m(\u001b[49m\n\u001b[0;32m     64\u001b[0m \u001b[43m                        \u001b[49m\u001b[43mD\u001b[49m\u001b[43m,\u001b[49m\u001b[43m \u001b[49m\n\u001b[0;32m     65\u001b[0m \u001b[43m                        \u001b[49m\u001b[43mK\u001b[49m\u001b[43m,\u001b[49m\u001b[43m \u001b[49m\n\u001b[0;32m     66\u001b[0m \u001b[43m                        \u001b[49m\u001b[43mdf\u001b[49m\u001b[43m,\u001b[49m\u001b[43m \u001b[49m\n\u001b[0;32m     67\u001b[0m \u001b[43m                        \u001b[49m\u001b[43mweights\u001b[49m\u001b[43m,\u001b[49m\n\u001b[0;32m     68\u001b[0m \u001b[43m                        \u001b[49m\u001b[38;5;28;43mself\u001b[39;49m\u001b[38;5;241;43m.\u001b[39;49m\u001b[43mlambd\u001b[49m\u001b[43m,\u001b[49m\n\u001b[0;32m     69\u001b[0m \u001b[43m                        \u001b[49m\u001b[38;5;28;43mself\u001b[39;49m\u001b[38;5;241;43m.\u001b[39;49m\u001b[43mlamb_start\u001b[49m\u001b[43m,\u001b[49m\n\u001b[0;32m     70\u001b[0m \u001b[43m                        \u001b[49m\u001b[38;5;28;43mself\u001b[39;49m\u001b[38;5;241;43m.\u001b[39;49m\u001b[43mstep_size\u001b[49m\u001b[43m,\u001b[49m\n\u001b[0;32m     71\u001b[0m \u001b[43m                        \u001b[49m\u001b[38;5;28;43mself\u001b[39;49m\u001b[38;5;241;43m.\u001b[39;49m\u001b[43mgrid_len\u001b[49m\u001b[43m,\u001b[49m\n\u001b[0;32m     72\u001b[0m \u001b[43m                        \u001b[49m\u001b[38;5;28;43mself\u001b[39;49m\u001b[38;5;241;43m.\u001b[39;49m\u001b[43meps\u001b[49m\u001b[43m,\u001b[49m\n\u001b[0;32m     73\u001b[0m \u001b[43m                        \u001b[49m\u001b[38;5;28;43mself\u001b[39;49m\u001b[38;5;241;43m.\u001b[39;49m\u001b[43mverbose\u001b[49m\u001b[43m,\u001b[49m\n\u001b[0;32m     74\u001b[0m \u001b[43m                        \u001b[49m\u001b[38;5;28;43mself\u001b[39;49m\u001b[38;5;241;43m.\u001b[39;49m\u001b[43mstep\u001b[49m\n\u001b[0;32m     75\u001b[0m \u001b[43m\u001b[49m\u001b[43m)\u001b[49m\n\u001b[0;32m     76\u001b[0m \u001b[38;5;66;03m#print(\"Running SPOC...\")\u001b[39;00m\n\u001b[0;32m     77\u001b[0m \u001b[38;5;66;03m#n = D.shape[1]\u001b[39;00m\n\u001b[0;32m     78\u001b[0m \u001b[38;5;66;03m#J = []\u001b[39;00m\n\u001b[1;32m   (...)\u001b[0m\n\u001b[0;32m     90\u001b[0m \u001b[38;5;66;03m#if self.return_anchor_docs:\u001b[39;00m\n\u001b[0;32m     91\u001b[0m     \u001b[38;5;66;03m#self.anchor_indices = J\u001b[39;00m\n\u001b[0;32m     93\u001b[0m \u001b[38;5;28;01mreturn\u001b[39;00m \u001b[38;5;28mself\u001b[39m\n",
      "File \u001b[1;32m~\\Desktop\\sample11\\CV for sample11\\SpLSI\\spatialSVD.py:237\u001b[0m, in \u001b[0;36mspatialSVD\u001b[1;34m(D, K, df, weights, lambd_fixed, lamb_start, step_size, grid_len, eps, verbose, method)\u001b[0m\n\u001b[0;32m    234\u001b[0m XV_tilde \u001b[38;5;241m=\u001b[39m np\u001b[38;5;241m.\u001b[39mdot(X_tilde, V)\n\u001b[0;32m    236\u001b[0m ssnal \u001b[38;5;241m=\u001b[39m pycvxcluster\u001b[38;5;241m.\u001b[39mpycvxcluster\u001b[38;5;241m.\u001b[39mSSNAL(gamma\u001b[38;5;241m=\u001b[39mlambd, verbose\u001b[38;5;241m=\u001b[39m\u001b[38;5;241m0\u001b[39m)\n\u001b[1;32m--> 237\u001b[0m \u001b[43mssnal\u001b[49m\u001b[38;5;241;43m.\u001b[39;49m\u001b[43mfit\u001b[49m\u001b[43m(\u001b[49m\u001b[43mX\u001b[49m\u001b[38;5;241;43m=\u001b[39;49m\u001b[43mXV_tilde\u001b[49m\u001b[43m,\u001b[49m\u001b[43m \u001b[49m\u001b[43mweight_matrix\u001b[49m\u001b[38;5;241;43m=\u001b[39;49m\u001b[43mweights\u001b[49m\u001b[43m,\u001b[49m\u001b[43m \u001b[49m\u001b[43msave_centers\u001b[49m\u001b[38;5;241;43m=\u001b[39;49m\u001b[38;5;28;43;01mTrue\u001b[39;49;00m\u001b[43m)\u001b[49m\n\u001b[0;32m    238\u001b[0m UL_hat_full \u001b[38;5;241m=\u001b[39m ssnal\u001b[38;5;241m.\u001b[39mcenters_\u001b[38;5;241m.\u001b[39mT\n\u001b[0;32m    239\u001b[0m Q, R \u001b[38;5;241m=\u001b[39m qr(UL_hat_full)\n",
      "File \u001b[1;32m~\\Desktop\\sample11\\CV for sample11\\pycvxcluster\\pycvxcluster.py:129\u001b[0m, in \u001b[0;36mSSNAL.fit\u001b[1;34m(self, X, y, save_centers, weight_matrix, recalculate_weights)\u001b[0m\n\u001b[0;32m    116\u001b[0m \u001b[38;5;28;01melse\u001b[39;00m:\n\u001b[0;32m    117\u001b[0m     t1 \u001b[38;5;241m=\u001b[39m \u001b[38;5;241m0\u001b[39m\n\u001b[0;32m    118\u001b[0m (\n\u001b[0;32m    119\u001b[0m     \u001b[38;5;28mself\u001b[39m\u001b[38;5;241m.\u001b[39mprimobj_,\n\u001b[0;32m    120\u001b[0m     \u001b[38;5;28mself\u001b[39m\u001b[38;5;241m.\u001b[39mdualobj_,\n\u001b[0;32m    121\u001b[0m     _,\n\u001b[0;32m    122\u001b[0m     xi,\n\u001b[0;32m    123\u001b[0m     _,\n\u001b[0;32m    124\u001b[0m     \u001b[38;5;28mself\u001b[39m\u001b[38;5;241m.\u001b[39meta_,\n\u001b[0;32m    125\u001b[0m     _,\n\u001b[0;32m    126\u001b[0m     \u001b[38;5;28mself\u001b[39m\u001b[38;5;241m.\u001b[39miter_,\n\u001b[0;32m    127\u001b[0m     \u001b[38;5;28mself\u001b[39m\u001b[38;5;241m.\u001b[39mtermination_,\n\u001b[0;32m    128\u001b[0m     t2,\n\u001b[1;32m--> 129\u001b[0m ) \u001b[38;5;241m=\u001b[39m \u001b[43mssnal_wrapper\u001b[49m\u001b[43m(\u001b[49m\n\u001b[0;32m    130\u001b[0m \u001b[43m    \u001b[49m\u001b[43mX\u001b[49m\u001b[38;5;241;43m.\u001b[39;49m\u001b[43mT\u001b[49m\u001b[43m,\u001b[49m\n\u001b[0;32m    131\u001b[0m \u001b[43m    \u001b[49m\u001b[38;5;28;43mself\u001b[39;49m\u001b[38;5;241;43m.\u001b[39;49m\u001b[43mweight_vec_\u001b[49m\u001b[43m,\u001b[49m\n\u001b[0;32m    132\u001b[0m \u001b[43m    \u001b[49m\u001b[38;5;28;43mself\u001b[39;49m\u001b[38;5;241;43m.\u001b[39;49m\u001b[43mnode_arc_matrix_\u001b[49m\u001b[43m,\u001b[49m\n\u001b[0;32m    133\u001b[0m \u001b[43m    \u001b[49m\u001b[43msigma\u001b[49m\u001b[38;5;241;43m=\u001b[39;49m\u001b[38;5;28;43mself\u001b[39;49m\u001b[38;5;241;43m.\u001b[39;49m\u001b[43msigma\u001b[49m\u001b[43m,\u001b[49m\n\u001b[0;32m    134\u001b[0m \u001b[43m    \u001b[49m\u001b[43mmaxiter\u001b[49m\u001b[38;5;241;43m=\u001b[39;49m\u001b[38;5;28;43mself\u001b[39;49m\u001b[38;5;241;43m.\u001b[39;49m\u001b[43mmaxiter\u001b[49m\u001b[43m,\u001b[49m\n\u001b[0;32m    135\u001b[0m \u001b[43m    \u001b[49m\u001b[43madmm_iter\u001b[49m\u001b[38;5;241;43m=\u001b[39;49m\u001b[38;5;28;43mself\u001b[39;49m\u001b[38;5;241;43m.\u001b[39;49m\u001b[43madmm_iter\u001b[49m\u001b[43m,\u001b[49m\n\u001b[0;32m    136\u001b[0m \u001b[43m    \u001b[49m\u001b[43mstoptol\u001b[49m\u001b[38;5;241;43m=\u001b[39;49m\u001b[38;5;28;43mself\u001b[39;49m\u001b[38;5;241;43m.\u001b[39;49m\u001b[43mstoptol\u001b[49m\u001b[43m,\u001b[49m\n\u001b[0;32m    137\u001b[0m \u001b[43m    \u001b[49m\u001b[43mncgtolconst\u001b[49m\u001b[38;5;241;43m=\u001b[39;49m\u001b[38;5;28;43mself\u001b[39;49m\u001b[38;5;241;43m.\u001b[39;49m\u001b[43mncgtolconst\u001b[49m\u001b[43m,\u001b[49m\n\u001b[0;32m    138\u001b[0m \u001b[43m    \u001b[49m\u001b[43mverbose\u001b[49m\u001b[38;5;241;43m=\u001b[39;49m\u001b[38;5;28;43mself\u001b[39;49m\u001b[38;5;241;43m.\u001b[39;49m\u001b[43mverbose\u001b[49m\u001b[43m,\u001b[49m\n\u001b[0;32m    139\u001b[0m \u001b[43m    \u001b[49m\u001b[38;5;241;43m*\u001b[39;49m\u001b[38;5;241;43m*\u001b[39;49m\u001b[38;5;28;43mself\u001b[39;49m\u001b[38;5;241;43m.\u001b[39;49m\u001b[43mkwargs\u001b[49m\u001b[43m,\u001b[49m\n\u001b[0;32m    140\u001b[0m \u001b[43m\u001b[49m\u001b[43m)\u001b[49m\n\u001b[0;32m    141\u001b[0m \u001b[38;5;28;01mif\u001b[39;00m save_centers:\n\u001b[0;32m    142\u001b[0m     \u001b[38;5;28mself\u001b[39m\u001b[38;5;241m.\u001b[39mcenters_ \u001b[38;5;241m=\u001b[39m xi\n",
      "File \u001b[1;32m~\\Desktop\\sample11\\CV for sample11\\pycvxcluster\\algos\\ssnal.py:43\u001b[0m, in \u001b[0;36mssnal_wrapper\u001b[1;34m(X, weight_vec, node_arc_matrix, **kwargs)\u001b[0m\n\u001b[0;32m     41\u001b[0m Ain \u001b[38;5;241m=\u001b[39m AInput(node_arc_matrix)\n\u001b[0;32m     42\u001b[0m dim \u001b[38;5;241m=\u001b[39m Dim(X, weight_vec)\n\u001b[1;32m---> 43\u001b[0m \u001b[38;5;28;01mreturn\u001b[39;00m \u001b[43mssnal\u001b[49m\u001b[43m(\u001b[49m\u001b[43mAin\u001b[49m\u001b[43m,\u001b[49m\u001b[43m \u001b[49m\u001b[43mX\u001b[49m\u001b[43m,\u001b[49m\u001b[43m \u001b[49m\u001b[43mdim\u001b[49m\u001b[43m,\u001b[49m\u001b[43m \u001b[49m\u001b[43mweight_vec\u001b[49m\u001b[43m,\u001b[49m\u001b[43m \u001b[49m\u001b[38;5;241;43m*\u001b[39;49m\u001b[38;5;241;43m*\u001b[39;49m\u001b[43mkwargs\u001b[49m\u001b[43m)\u001b[49m\n",
      "File \u001b[1;32m~\\Desktop\\sample11\\CV for sample11\\pycvxcluster\\algos\\ssnal.py:80\u001b[0m, in \u001b[0;36mssnal\u001b[1;34m(Ainput, data, dim, weight_vec, sigma, maxiter, stoptol, scale, use_kkt, admm_iter, ncgtolconst, verbose, x0, z0, y0)\u001b[0m\n\u001b[0;32m     77\u001b[0m     y \u001b[38;5;241m=\u001b[39m y0\n\u001b[0;32m     79\u001b[0m \u001b[38;5;28;01mif\u001b[39;00m admm_iter \u001b[38;5;241m>\u001b[39m \u001b[38;5;241m0\u001b[39m:\n\u001b[1;32m---> 80\u001b[0m     xi, y, z, admm_status, admm_eta, \u001b[38;5;241m*\u001b[39m_ \u001b[38;5;241m=\u001b[39m \u001b[43madmm_l2\u001b[49m\u001b[43m(\u001b[49m\n\u001b[0;32m     81\u001b[0m \u001b[43m        \u001b[49m\u001b[43mdata\u001b[49m\u001b[43m,\u001b[49m\n\u001b[0;32m     82\u001b[0m \u001b[43m        \u001b[49m\u001b[43mAinput\u001b[49m\u001b[38;5;241;43m.\u001b[39;49m\u001b[43mA0\u001b[49m\u001b[43m,\u001b[49m\n\u001b[0;32m     83\u001b[0m \u001b[43m        \u001b[49m\u001b[43mweight_vec\u001b[49m\u001b[43m,\u001b[49m\n\u001b[0;32m     84\u001b[0m \u001b[43m        \u001b[49m\u001b[43mmax_iter\u001b[49m\u001b[38;5;241;43m=\u001b[39;49m\u001b[43madmm_iter\u001b[49m\u001b[43m,\u001b[49m\n\u001b[0;32m     85\u001b[0m \u001b[43m        \u001b[49m\u001b[43msigma\u001b[49m\u001b[38;5;241;43m=\u001b[39;49m\u001b[43msigma\u001b[49m\u001b[43m,\u001b[49m\n\u001b[0;32m     86\u001b[0m \u001b[43m        \u001b[49m\u001b[43mrho\u001b[49m\u001b[38;5;241;43m=\u001b[39;49m\u001b[38;5;241;43m1.618\u001b[39;49m\u001b[43m,\u001b[49m\n\u001b[0;32m     87\u001b[0m \u001b[43m        \u001b[49m\u001b[43mstop_tol\u001b[49m\u001b[38;5;241;43m=\u001b[39;49m\u001b[43mstoptol\u001b[49m\u001b[43m,\u001b[49m\n\u001b[0;32m     88\u001b[0m \u001b[43m        \u001b[49m\u001b[43mverbose\u001b[49m\u001b[38;5;241;43m=\u001b[39;49m\u001b[43mverbose\u001b[49m\u001b[43m,\u001b[49m\n\u001b[0;32m     89\u001b[0m \u001b[43m    \u001b[49m\u001b[43m)\u001b[49m\n\u001b[0;32m     90\u001b[0m     \u001b[38;5;28;01mif\u001b[39;00m admm_eta \u001b[38;5;241m<\u001b[39m stoptol:\n\u001b[0;32m     91\u001b[0m         \u001b[38;5;28mprint\u001b[39m(\u001b[38;5;124m\"\u001b[39m\u001b[38;5;124mADMM converged in \u001b[39m\u001b[38;5;132;01m{}\u001b[39;00m\u001b[38;5;124m iterations.\u001b[39m\u001b[38;5;124m\"\u001b[39m\u001b[38;5;241m.\u001b[39mformat(admm_status))\n",
      "File \u001b[1;32m~\\Desktop\\sample11\\CV for sample11\\pycvxcluster\\algos\\admm.py:76\u001b[0m, in \u001b[0;36madmm_l2\u001b[1;34m(X, A, weight_vec, max_iter, sigma, rho, stop_tol, verbose, xi0, x0, y0)\u001b[0m\n\u001b[0;32m     74\u001b[0m primfeas \u001b[38;5;241m=\u001b[39m normRp \u001b[38;5;241m/\u001b[39m (\u001b[38;5;241m1\u001b[39m \u001b[38;5;241m+\u001b[39m normy)\n\u001b[0;32m     75\u001b[0m proj_x \u001b[38;5;241m=\u001b[39m proj_l2(x, weight_vec)\n\u001b[1;32m---> 76\u001b[0m Rd \u001b[38;5;241m=\u001b[39m \u001b[43mx\u001b[49m\u001b[43m \u001b[49m\u001b[38;5;241;43m-\u001b[39;49m\u001b[43m \u001b[49m\u001b[43mproj_x\u001b[49m\n\u001b[0;32m     77\u001b[0m dualfeas \u001b[38;5;241m=\u001b[39m fnorm(Rd) \u001b[38;5;241m/\u001b[39m (\u001b[38;5;241m1\u001b[39m \u001b[38;5;241m+\u001b[39m fnorm(x))\n\u001b[0;32m     78\u001b[0m maxfeas \u001b[38;5;241m=\u001b[39m \u001b[38;5;28mmax\u001b[39m(primfeas, dualfeas)\n",
      "File \u001b[1;32m~\\anaconda3\\envs\\mypy311env\\Lib\\site-packages\\scipy\\sparse\\_base.py:501\u001b[0m, in \u001b[0;36m_spbase.__rsub__\u001b[1;34m(self, other)\u001b[0m\n\u001b[0;32m    499\u001b[0m \u001b[38;5;28;01melif\u001b[39;00m isdense(other):\n\u001b[0;32m    500\u001b[0m     other \u001b[38;5;241m=\u001b[39m np\u001b[38;5;241m.\u001b[39mbroadcast_to(other, \u001b[38;5;28mself\u001b[39m\u001b[38;5;241m.\u001b[39mshape)\n\u001b[1;32m--> 501\u001b[0m     \u001b[38;5;28;01mreturn\u001b[39;00m \u001b[38;5;28;43mself\u001b[39;49m\u001b[38;5;241;43m.\u001b[39;49m\u001b[43m_rsub_dense\u001b[49m\u001b[43m(\u001b[49m\u001b[43mother\u001b[49m\u001b[43m)\u001b[49m\n\u001b[0;32m    502\u001b[0m \u001b[38;5;28;01melse\u001b[39;00m:\n\u001b[0;32m    503\u001b[0m     \u001b[38;5;28;01mreturn\u001b[39;00m \u001b[38;5;28mNotImplemented\u001b[39m\n",
      "File \u001b[1;32m~\\anaconda3\\envs\\mypy311env\\Lib\\site-packages\\scipy\\sparse\\_base.py:455\u001b[0m, in \u001b[0;36m_spbase._rsub_dense\u001b[1;34m(self, other)\u001b[0m\n\u001b[0;32m    453\u001b[0m \u001b[38;5;28;01mdef\u001b[39;00m \u001b[38;5;21m_rsub_dense\u001b[39m(\u001b[38;5;28mself\u001b[39m, other):\n\u001b[0;32m    454\u001b[0m     \u001b[38;5;66;03m# note: this can't be replaced by other + (-self) for unsigned types\u001b[39;00m\n\u001b[1;32m--> 455\u001b[0m     \u001b[38;5;28;01mreturn\u001b[39;00m other \u001b[38;5;241m-\u001b[39m \u001b[38;5;28;43mself\u001b[39;49m\u001b[38;5;241;43m.\u001b[39;49m\u001b[43mtodense\u001b[49m\u001b[43m(\u001b[49m\u001b[43m)\u001b[49m\n",
      "File \u001b[1;32m~\\anaconda3\\envs\\mypy311env\\Lib\\site-packages\\scipy\\sparse\\_base.py:912\u001b[0m, in \u001b[0;36m_spbase.todense\u001b[1;34m(self, order, out)\u001b[0m\n\u001b[0;32m    882\u001b[0m \u001b[38;5;28;01mdef\u001b[39;00m \u001b[38;5;21mtodense\u001b[39m(\u001b[38;5;28mself\u001b[39m, order\u001b[38;5;241m=\u001b[39m\u001b[38;5;28;01mNone\u001b[39;00m, out\u001b[38;5;241m=\u001b[39m\u001b[38;5;28;01mNone\u001b[39;00m):\n\u001b[0;32m    883\u001b[0m \u001b[38;5;250m    \u001b[39m\u001b[38;5;124;03m\"\"\"\u001b[39;00m\n\u001b[0;32m    884\u001b[0m \u001b[38;5;124;03m    Return a dense matrix representation of this sparse array.\u001b[39;00m\n\u001b[0;32m    885\u001b[0m \n\u001b[1;32m   (...)\u001b[0m\n\u001b[0;32m    910\u001b[0m \u001b[38;5;124;03m        `numpy.matrix` object that shares the same memory.\u001b[39;00m\n\u001b[0;32m    911\u001b[0m \u001b[38;5;124;03m    \"\"\"\u001b[39;00m\n\u001b[1;32m--> 912\u001b[0m     \u001b[38;5;28;01mreturn\u001b[39;00m \u001b[38;5;28mself\u001b[39m\u001b[38;5;241m.\u001b[39m_ascontainer(\u001b[38;5;28;43mself\u001b[39;49m\u001b[38;5;241;43m.\u001b[39;49m\u001b[43mtoarray\u001b[49m\u001b[43m(\u001b[49m\u001b[43morder\u001b[49m\u001b[38;5;241;43m=\u001b[39;49m\u001b[43morder\u001b[49m\u001b[43m,\u001b[49m\u001b[43m \u001b[49m\u001b[43mout\u001b[49m\u001b[38;5;241;43m=\u001b[39;49m\u001b[43mout\u001b[49m\u001b[43m)\u001b[49m)\n",
      "File \u001b[1;32m~\\anaconda3\\envs\\mypy311env\\Lib\\site-packages\\scipy\\sparse\\_compressed.py:1050\u001b[0m, in \u001b[0;36m_cs_matrix.toarray\u001b[1;34m(self, order, out)\u001b[0m\n\u001b[0;32m   1048\u001b[0m \u001b[38;5;28;01mif\u001b[39;00m out \u001b[38;5;129;01mis\u001b[39;00m \u001b[38;5;28;01mNone\u001b[39;00m \u001b[38;5;129;01mand\u001b[39;00m order \u001b[38;5;129;01mis\u001b[39;00m \u001b[38;5;28;01mNone\u001b[39;00m:\n\u001b[0;32m   1049\u001b[0m     order \u001b[38;5;241m=\u001b[39m \u001b[38;5;28mself\u001b[39m\u001b[38;5;241m.\u001b[39m_swap(\u001b[38;5;124m'\u001b[39m\u001b[38;5;124mcf\u001b[39m\u001b[38;5;124m'\u001b[39m)[\u001b[38;5;241m0\u001b[39m]\n\u001b[1;32m-> 1050\u001b[0m out \u001b[38;5;241m=\u001b[39m \u001b[38;5;28;43mself\u001b[39;49m\u001b[38;5;241;43m.\u001b[39;49m\u001b[43m_process_toarray_args\u001b[49m\u001b[43m(\u001b[49m\u001b[43morder\u001b[49m\u001b[43m,\u001b[49m\u001b[43m \u001b[49m\u001b[43mout\u001b[49m\u001b[43m)\u001b[49m\n\u001b[0;32m   1051\u001b[0m \u001b[38;5;28;01mif\u001b[39;00m \u001b[38;5;129;01mnot\u001b[39;00m (out\u001b[38;5;241m.\u001b[39mflags\u001b[38;5;241m.\u001b[39mc_contiguous \u001b[38;5;129;01mor\u001b[39;00m out\u001b[38;5;241m.\u001b[39mflags\u001b[38;5;241m.\u001b[39mf_contiguous):\n\u001b[0;32m   1052\u001b[0m     \u001b[38;5;28;01mraise\u001b[39;00m \u001b[38;5;167;01mValueError\u001b[39;00m(\u001b[38;5;124m'\u001b[39m\u001b[38;5;124mOutput array must be C or F contiguous\u001b[39m\u001b[38;5;124m'\u001b[39m)\n",
      "File \u001b[1;32m~\\anaconda3\\envs\\mypy311env\\Lib\\site-packages\\scipy\\sparse\\_base.py:1267\u001b[0m, in \u001b[0;36m_spbase._process_toarray_args\u001b[1;34m(self, order, out)\u001b[0m\n\u001b[0;32m   1265\u001b[0m     \u001b[38;5;28;01mreturn\u001b[39;00m out\n\u001b[0;32m   1266\u001b[0m \u001b[38;5;28;01melse\u001b[39;00m:\n\u001b[1;32m-> 1267\u001b[0m     \u001b[38;5;28;01mreturn\u001b[39;00m np\u001b[38;5;241m.\u001b[39mzeros(\u001b[38;5;28mself\u001b[39m\u001b[38;5;241m.\u001b[39mshape, dtype\u001b[38;5;241m=\u001b[39m\u001b[38;5;28mself\u001b[39m\u001b[38;5;241m.\u001b[39mdtype, order\u001b[38;5;241m=\u001b[39morder)\n",
      "\u001b[1;31mKeyboardInterrupt\u001b[0m: "
     ]
    }
   ],
   "source": [
    "start = time.time()\n",
    "spl_2.fit(expr_data, K, expr_locs_df, weights)\n",
    "end = time.time()\n",
    "print(end - start)"
   ]
  },
  {
   "cell_type": "markdown",
   "metadata": {},
   "source": [
    "#### Plotting"
   ]
  },
  {
   "cell_type": "code",
   "execution_count": 10,
   "metadata": {},
   "outputs": [],
   "source": [
    "def plot_fold_cv(lamb_start, step_size, grid_len, model):\n",
    "    lambd_errs = model.lambd_errs\n",
    "    lambd_grid = (lamb_start + step_size*np.arange(grid_len)).tolist()\n",
    "    \n",
    "    lambd_grid.insert(0, 1e-06)\n",
    "    cv_1 = np.round(lambd_grid[np.argmin(lambd_errs['fold_errors'][0])], 5)\n",
    "    cv_2 = np.round(lambd_grid[np.argmin(lambd_errs['fold_errors'][1])], 5)\n",
    "    cv_final = model.lambd\n",
    "    for j, fold_errs in lambd_errs['fold_errors'].items():\n",
    "        plt.plot(lambd_grid[1:],  fold_errs[1:], label=f'Fold {j}', marker = 'o')\n",
    "        #plt.vlines(cv_1, 18.90, 18.25, color = \"blue\")\n",
    "        #plt.vlines(cv_2, 18.90, 18.25, color = \"orange\")\n",
    "\n",
    "    #plt.plot(lambd_grid, new_list, label='Final Errors', linestyle='--', linewidth=2)\n",
    "    #plt.yscale('log')\n",
    "    plt.xlabel('Lambda')\n",
    "    plt.ylabel('Errors')\n",
    "    plt.text(cv_1, lambd_errs['fold_errors'][0][0] -1, cv_1, color='blue')\n",
    "    plt.text(cv_1, lambd_errs['fold_errors'][1][0] -1, cv_2, color='orange')\n",
    "    plt.title(f'Lambda CV = {cv_final}')\n",
    "    plt.legend()\n",
    "    plt.show()"
   ]
  },
  {
   "cell_type": "code",
   "execution_count": 20,
   "metadata": {
    "scrolled": true
   },
   "outputs": [
    {
     "data": {
      "image/png": "[encoded data removed]",
      "text/plain": [
       "<Figure size 640x480 with 1 Axes>"
      ]
     },
     "metadata": {},
     "output_type": "display_data"
    }
   ],
   "source": [
    "plot_fold_cv(15,2.5,5,model=spl_2)"
   ]
  },
  {
   "cell_type": "markdown",
   "metadata": {},
   "source": [
    "##### After cross validation, use the optimal tuning parameter for iterative algorithm"
   ]
  },
  {
   "cell_type": "code",
   "execution_count": 27,
   "metadata": {
    "scrolled": true
   },
   "outputs": [
    {
     "name": "stdout",
     "output_type": "stream",
     "text": [
      "Error is 9.169850976715649\n",
      "Error is 0.8297347965745665\n",
      "Error is 0.4419045502026596\n",
      "Error is 0.31371442597858673\n",
      "Error is 0.243139656068976\n",
      "Error is 0.1934395519203579\n",
      "Error is 0.14747630254651253\n",
      "Error is 0.09514749640983555\n",
      "Error is 0.055733444571480016\n",
      "Error is 0.035438026169137105\n",
      "Error is 0.02442022034852699\n",
      "Error is 0.017703810969368575\n",
      "Error is 0.013268109577019184\n",
      "Error is 0.010051216781172982\n",
      "Error is 0.007688563648086599\n",
      "41.87903189659119\n"
     ]
    }
   ],
   "source": [
    "start = time.time()\n",
    "spl_2.fit2(expr_data, K, weights, lambd = 12.5)\n",
    "end = time.time()\n",
    "print(end - start)"
   ]
  },
  {
   "cell_type": "markdown",
   "metadata": {},
   "source": [
    "##### Output"
   ]
  },
  {
   "cell_type": "code",
   "execution_count": 28,
   "metadata": {},
   "outputs": [],
   "source": [
    "U_df = pd.DataFrame(spl_2.U)\n",
    "V_df = pd.DataFrame(spl_2.V)\n",
    "U_df.to_csv(\"IP_U.csv\", index = False)\n",
    "V_df.to_csv(\"IP_V.csv\", index = False)"
   ]
  },
  {
   "cell_type": "code",
   "execution_count": null,
   "metadata": {},
   "outputs": [],
   "source": []
  }
 ],
 "metadata": {
  "kernelspec": {
   "display_name": "Python 3 (ipykernel)",
   "language": "python",
   "name": "python3"
  },
  "language_info": {
   "codemirror_mode": {
    "name": "ipython",
    "version": 3
   },
   "file_extension": ".py",
   "mimetype": "text/x-python",
   "name": "python",
   "nbconvert_exporter": "python",
   "pygments_lexer": "ipython3",
   "version": "3.11.7"
  }
 },
 "nbformat": 4,
 "nbformat_minor": 4
}
